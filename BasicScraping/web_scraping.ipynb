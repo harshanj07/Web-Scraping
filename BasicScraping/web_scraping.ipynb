{
 "cells": [
  {
   "cell_type": "code",
   "execution_count": 11,
   "metadata": {},
   "outputs": [],
   "source": [
    "import bs4\n",
    "import requests\n",
    "import json\n",
    "import re\n",
    "import csv"
   ]
  },
  {
   "cell_type": "code",
   "execution_count": 3,
   "metadata": {},
   "outputs": [],
   "source": [
    "url = \"https://www.moneycontrol.com/news/business/markets/reliance-industries-block-deal-67-lakh-ril-shares-sold-in-large-trades-estimated-at-over-rs-890-crore-12883125.html\""
   ]
  },
  {
   "cell_type": "code",
   "execution_count": 4,
   "metadata": {},
   "outputs": [],
   "source": [
    "request = requests.get(url)\n",
    "soup = bs4.BeautifulSoup(request.text,'html.parser')"
   ]
  },
  {
   "cell_type": "code",
   "execution_count": 5,
   "metadata": {},
   "outputs": [
    {
     "name": "stdout",
     "output_type": "stream",
     "text": [
      "Headline: Reliance Industries block deal: 67 lakh RIL shares sold in large trades, estimated at over Rs 890 crore\n"
     ]
    }
   ],
   "source": [
    "# Extract the headline\n",
    "headline = soup.find('title').text.strip()\n",
    "print(\"Headline:\", headline)"
   ]
  },
  {
   "cell_type": "code",
   "execution_count": 6,
   "metadata": {},
   "outputs": [
    {
     "name": "stdout",
     "output_type": "stream",
     "text": [
      "Description: Reliance Industries has regained favour among global brokerages, with Morgan Stanley, JPMorgan, and Citigroup recently giving bullish calls on the stock, citing key drivers for its recovery.\n"
     ]
    }
   ],
   "source": [
    "# Extract the description (meta description)\n",
    "description = soup.find('meta', attrs={'name': 'description'})['content'].strip()\n",
    "print(\"Description:\", description)"
   ]
  },
  {
   "cell_type": "code",
   "execution_count": 7,
   "metadata": {},
   "outputs": [
    {
     "name": "stdout",
     "output_type": "stream",
     "text": [
      "Published Date: 2024-12-04T15:12:17+05:30\n"
     ]
    }
   ],
   "source": [
    "# Extract the published date (meta property for published time)\n",
    "published_date = soup.find('meta', attrs={'property': 'og:article:published_time'})['content'].strip()\n",
    "print(\"Published Date:\", published_date)"
   ]
  },
  {
   "cell_type": "code",
   "execution_count": 8,
   "metadata": {},
   "outputs": [
    {
     "name": "stdout",
     "output_type": "stream",
     "text": [
      "\n",
      "Extracted Information:\n",
      "Headline: Reliance Industries block deal: 67 lakh RIL shares sold in large trades, estimated at over Rs 890 crore\n",
      "Description: Reliance Industries has regained favour among global brokerages, with Morgan Stanley, JPMorgan, and Citigroup recently giving bullish calls on the stock, citing key drivers for its recovery.\n",
      "Published Date: 2024-12-04T15:12:17+05:30\n"
     ]
    }
   ],
   "source": [
    "# Display all extracted information\n",
    "print(\"\\nExtracted Information:\")\n",
    "print(\"Headline:\", headline)\n",
    "print(\"Description:\", description)\n",
    "print(\"Published Date:\", published_date)"
   ]
  },
  {
   "cell_type": "code",
   "execution_count": 9,
   "metadata": {},
   "outputs": [
    {
     "name": "stdout",
     "output_type": "stream",
     "text": [
      "Content of the article: Content not found\n"
     ]
    }
   ],
   "source": [
    "# Extract the main content of the article\n",
    "# This will depend on the specific structure of the webpage.\n",
    "# Here we assume the content is in <div> tags with a specific class name.\n",
    "content_div = soup.find_all('div', class_='section_title')\n",
    "content = content_div.get_text(separator=\"\\n\", strip=True) if content_div else \"Content not found\"\n",
    "print(\"Content of the article:\", content)"
   ]
  },
  {
   "cell_type": "code",
   "execution_count": 15,
   "metadata": {},
   "outputs": [],
   "source": [
    "# Create a dictionary to hold the data\n",
    "article_data = {\n",
    "    \"Published Date\": published_date,\n",
    "    \"Headline\": headline,\n",
    "    \"Description\": description,\n",
    "    \"URL\": url\n",
    "}\n"
   ]
  },
  {
   "cell_type": "code",
   "execution_count": 16,
   "metadata": {},
   "outputs": [
    {
     "name": "stdout",
     "output_type": "stream",
     "text": [
      "Data has been written to article_info.csv\n"
     ]
    }
   ],
   "source": [
    "data = [\n",
    "    [\"Published Date\", \"Headline\", \"Description\", \"URL\"],\n",
    "    [article_data[\"Published Date\"], article_data[\"Headline\"], article_data[\"Description\"], article_data[\"URL\"]]\n",
    "]\n",
    "\n",
    "# Create a CSV file and write the data\n",
    "csv_file = \"article_info.csv\"\n",
    "with open(csv_file, mode='w', newline='', encoding='utf-8') as file:\n",
    "    writer = csv.writer(file)\n",
    "    writer.writerows(data)\n",
    "\n",
    "print(f\"Data has been written to {csv_file}\")"
   ]
  }
 ],
 "metadata": {
  "kernelspec": {
   "display_name": ".venv",
   "language": "python",
   "name": "python3"
  },
  "language_info": {
   "codemirror_mode": {
    "name": "ipython",
    "version": 3
   },
   "file_extension": ".py",
   "mimetype": "text/x-python",
   "name": "python",
   "nbconvert_exporter": "python",
   "pygments_lexer": "ipython3",
   "version": "3.11.9"
  }
 },
 "nbformat": 4,
 "nbformat_minor": 2
}
