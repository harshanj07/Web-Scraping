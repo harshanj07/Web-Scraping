{
 "cells": [
  {
   "cell_type": "code",
   "execution_count": 1,
   "metadata": {},
   "outputs": [
    {
     "name": "stdout",
     "output_type": "stream",
     "text": [
      "Wikipedia\n"
     ]
    }
   ],
   "source": [
    "from selenium import webdriver\n",
    "\n",
    "driver = webdriver.Chrome()\n",
    "driver.get(\"https://www.wikipedia.org/\")\n",
    "print(driver.title)\n"
   ]
  },
  {
   "cell_type": "code",
   "execution_count": 2,
   "metadata": {},
   "outputs": [
    {
     "name": "stdout",
     "output_type": "stream",
     "text": [
      "Wikipedia, the free encyclopedia\n"
     ]
    }
   ],
   "source": [
    "from selenium import webdriver\n",
    "from selenium.webdriver.common.by import By\n",
    "\n",
    "driver = webdriver.Chrome()\n",
    "driver.get(\"https://www.wikipedia.org/\")\n",
    "\n",
    "english_link = driver.find_element(By.ID, \"js-link-box-en\")\n",
    "english_link.click()\n",
    "\n",
    "print(driver.title)\n"
   ]
  },
  {
   "cell_type": "code",
   "execution_count": 28,
   "metadata": {},
   "outputs": [
    {
     "name": "stdout",
     "output_type": "stream",
     "text": [
      "Python (programming language) - Wikipedia\n"
     ]
    }
   ],
   "source": [
    "from selenium import webdriver\n",
    "\n",
    "driver = webdriver.Chrome()\n",
    "driver.get(\"https://www.wikipedia.org/\")\n",
    "\n",
    "search_box = driver.find_element(By.ID, \"searchInput\")\n",
    "search_box.send_keys(\"Python (programming language)\")\n",
    "search_box.submit()\n",
    "\n",
    "print(driver.title)\n"
   ]
  },
  {
   "cell_type": "code",
   "execution_count": 29,
   "metadata": {},
   "outputs": [
    {
     "name": "stdout",
     "output_type": "stream",
     "text": [
      "Python (programming language)\n"
     ]
    }
   ],
   "source": [
    "from selenium import webdriver\n",
    "from selenium.webdriver.common.by import By\n",
    "\n",
    "driver = webdriver.Chrome()\n",
    "driver.get(\"https://en.wikipedia.org/wiki/Python_(programming_language)\")\n",
    "\n",
    "headline = driver.find_element(By.ID, \"firstHeading\")\n",
    "print(headline.text)\n"
   ]
  },
  {
   "cell_type": "code",
   "execution_count": 34,
   "metadata": {},
   "outputs": [
    {
     "name": "stdout",
     "output_type": "stream",
     "text": [
      "Selected Language: Hindi\n"
     ]
    }
   ],
   "source": [
    "from selenium import webdriver\n",
    "from selenium.webdriver.common.by import By\n",
    "from selenium.webdriver.support.ui import Select\n",
    "\n",
    "driver = webdriver.Chrome()\n",
    "driver.get(\"https://www.wikipedia.org/\")\n",
    "\n",
    "language_dropdown = Select(driver.find_element(By.ID, \"searchLanguage\"))\n",
    "language_dropdown.select_by_value(\"hi\")  # Select Hindi\n",
    "print(\"Selected Language: Hindi\")\n",
    "\n"
   ]
  },
  {
   "cell_type": "code",
   "execution_count": 35,
   "metadata": {},
   "outputs": [
    {
     "name": "stdout",
     "output_type": "stream",
     "text": [
      "Current page: Wikipedia\n",
      "Navigated to: Python (programming language) - Wikipedia\n",
      "Back to: Wikipedia\n",
      "Forward to: Python (programming language) - Wikipedia\n"
     ]
    }
   ],
   "source": [
    "from selenium import webdriver\n",
    "\n",
    "driver = webdriver.Chrome()\n",
    "driver.get(\"https://www.wikipedia.org/\")\n",
    "print(\"Current page:\", driver.title)\n",
    "\n",
    "driver.get(\"https://en.wikipedia.org/wiki/Python_(programming_language)\")\n",
    "print(\"Navigated to:\", driver.title)\n",
    "\n",
    "driver.back()\n",
    "print(\"Back to:\", driver.title)\n",
    "\n",
    "driver.forward()\n",
    "print(\"Forward to:\", driver.title)\n",
    "\n"
   ]
  },
  {
   "cell_type": "code",
   "execution_count": 36,
   "metadata": {},
   "outputs": [
    {
     "name": "stdout",
     "output_type": "stream",
     "text": [
      "https://en.wikipedia.org/wiki/Python_(programming_language)#bodyContent\n",
      "https://en.wikipedia.org/wiki/Main_Page\n",
      "https://en.wikipedia.org/wiki/Wikipedia:Contents\n",
      "https://en.wikipedia.org/wiki/Portal:Current_events\n",
      "https://en.wikipedia.org/wiki/Special:Random\n",
      "https://en.wikipedia.org/wiki/Wikipedia:About\n",
      "https://en.wikipedia.org/wiki/Wikipedia:Contact_us\n",
      "https://en.wikipedia.org/wiki/Help:Contents\n",
      "https://en.wikipedia.org/wiki/Help:Introduction\n",
      "https://en.wikipedia.org/wiki/Wikipedia:Community_portal\n"
     ]
    }
   ],
   "source": [
    "driver = webdriver.Chrome()\n",
    "driver.get(\"https://en.wikipedia.org/wiki/Python_(programming_language)\")\n",
    "\n",
    "links = driver.find_elements(By.TAG_NAME, \"a\")\n",
    "for link in links[:10]:  # Print the first 10 links\n",
    "    print(link.get_attribute(\"href\"))\n",
    "\n"
   ]
  },
  {
   "cell_type": "code",
   "execution_count": 37,
   "metadata": {},
   "outputs": [],
   "source": [
    "\n",
    "driver = webdriver.Chrome()\n",
    "driver.get(\"https://www.wikipedia.org/\")\n",
    "\n",
    "driver.save_screenshot(\"wikipedia_homepage.png\")\n",
    "#driver.quit()\n"
   ]
  },
  {
   "cell_type": "code",
   "execution_count": 39,
   "metadata": {},
   "outputs": [
    {
     "name": "stdout",
     "output_type": "stream",
     "text": [
      "Scrolled to the bottom of the page.\n"
     ]
    }
   ],
   "source": [
    "\n",
    "driver = webdriver.Chrome()\n",
    "driver.get(\"https://en.wikipedia.org/wiki/Python_(programming_language)\")\n",
    "\n",
    "driver.execute_script(\"window.scrollTo(0, document.body.scrollHeight);\")\n",
    "print(\"Scrolled to the bottom of the page.\")\n"
   ]
  },
  {
   "cell_type": "code",
   "execution_count": 40,
   "metadata": {},
   "outputs": [
    {
     "name": "stdout",
     "output_type": "stream",
     "text": [
      "New Tab Title: Python (programming language) - Wikipedia\n",
      "Original Tab Title: Wikipedia\n"
     ]
    }
   ],
   "source": [
    "\n",
    "driver = webdriver.Chrome()\n",
    "driver.get(\"https://www.wikipedia.org/\")\n",
    "\n",
    "# Open a new tab\n",
    "driver.execute_script(\"window.open('https://en.wikipedia.org/wiki/Python_(programming_language)', '_blank');\")\n",
    "\n",
    "# Switch to the new tab\n",
    "driver.switch_to.window(driver.window_handles[1])\n",
    "print(\"New Tab Title:\", driver.title)\n",
    "\n",
    "# Switch back to the original tab\n",
    "driver.switch_to.window(driver.window_handles[0])\n",
    "print(\"Original Tab Title:\", driver.title)\n",
    "\n"
   ]
  },
  {
   "cell_type": "code",
   "execution_count": 56,
   "metadata": {},
   "outputs": [
    {
     "name": "stdout",
     "output_type": "stream",
     "text": [
      "Top Gainers:\n",
      "['DRREDDY', '1345.3', '1.49', '74,99,087']\n",
      "['JSWSTEEL', '931.45', '0.59', '2,90,03,345']\n",
      "['ICICIBANK', '1292', '0.40', '5,84,91,181']\n",
      "['NESTLEIND', '2165', '0.21', '16,51,762']\n",
      "['HDFCLIFE', '623.75', '0.03', '39,96,244']\n",
      "\n",
      "Top Losers:\n",
      "['TECHM', '1685.85', '-3.90', '29,21,154']\n",
      "['AXISBANK', '1070', '-3.51', '1,26,23,056']\n",
      "['INDUSINDBK', '930.9', '-3.47', '44,66,131']\n",
      "['M&M', '2916.95', '-3.24', '80,46,336']\n",
      "['TRENT', '6880', '-2.99', '7,68,861']\n"
     ]
    }
   ],
   "source": [
    "from selenium import webdriver\n",
    "from selenium.webdriver.common.by import By\n",
    "from selenium.webdriver.chrome.service import Service\n",
    "from selenium.webdriver.common.keys import Keys\n",
    "from selenium.webdriver.common.action_chains import ActionChains\n",
    "import time\n",
    "\n",
    "# Setup the WebDriver\n",
    "driver = webdriver.Chrome()\n",
    "\n",
    "try:\n",
    "    # Open the NSE India website\n",
    "    driver.get(\"https://www.nseindia.com/\")\n",
    "    time.sleep(5)  # Wait for the page to load completely\n",
    "    \n",
    "    # Navigate to the \"Gainers/Losers\" section\n",
    "    # Use the IDs and class names from the uploaded image\n",
    "    gainers_table = driver.find_element(By.ID, \"tab1_tableGainer\")\n",
    "    losers_table = driver.find_element(By.ID, \"tab1_tableLoser\")\n",
    "\n",
    "    # Extract data for Gainers\n",
    "    gainers_rows = gainers_table.find_elements(By.TAG_NAME, \"tr\")\n",
    "    print(\"Top Gainers:\")\n",
    "    for row in gainers_rows[1:]:  # Skip the header row\n",
    "        cells = row.find_elements(By.TAG_NAME, \"td\")\n",
    "        data = [cell.text for cell in cells]\n",
    "        print(data)\n",
    "\n",
    "    # Extract data for Losers\n",
    "    losers_rows = losers_table.find_elements(By.TAG_NAME, \"tr\")\n",
    "    print(\"\\nTop Losers:\")\n",
    "    for row in losers_rows[1:]:  # Skip the header row\n",
    "        cells = row.find_elements(By.TAG_NAME, \"td\")\n",
    "        data = [cell.text for cell in cells]\n",
    "        print(data)\n",
    "\n",
    "finally:\n",
    "    driver.quit()\n"
   ]
  }
 ],
 "metadata": {
  "kernelspec": {
   "display_name": ".venv",
   "language": "python",
   "name": "python3"
  },
  "language_info": {
   "codemirror_mode": {
    "name": "ipython",
    "version": 3
   },
   "file_extension": ".py",
   "mimetype": "text/x-python",
   "name": "python",
   "nbconvert_exporter": "python",
   "pygments_lexer": "ipython3",
   "version": "3.11.9"
  }
 },
 "nbformat": 4,
 "nbformat_minor": 2
}
