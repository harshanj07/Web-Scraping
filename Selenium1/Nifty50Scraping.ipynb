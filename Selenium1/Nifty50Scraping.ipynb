{
 "cells": [
  {
   "cell_type": "code",
   "execution_count": 1,
   "metadata": {},
   "outputs": [],
   "source": [
    "import csv\n",
    "from datetime import datetime\n",
    "from selenium import webdriver\n",
    "from selenium.webdriver.common.by import By\n",
    "import time"
   ]
  },
  {
   "cell_type": "code",
   "execution_count": 2,
   "metadata": {},
   "outputs": [
    {
     "name": "stdout",
     "output_type": "stream",
     "text": [
      "Data saved to Gainers_and_Losers_2024-12-23.csv\n"
     ]
    }
   ],
   "source": [
    "driver = webdriver.Chrome()\n",
    "\n",
    "\n",
    "try:\n",
    "    # Open the NSE India website\n",
    "    driver.get(\"https://www.nseindia.com/\")\n",
    "    time.sleep(5)  # Wait for the page to load completely\n",
    "    \n",
    "    # Navigate to the \"Gainers/Losers\" section\n",
    "    gainers_table = driver.find_element(By.ID, \"tab1_tableGainer\")\n",
    "    losers_table = driver.find_element(By.ID, \"tab1_tableLoser\")\n",
    "\n",
    "    # Extract data for Gainers\n",
    "    gainers_rows = gainers_table.find_elements(By.TAG_NAME, \"tr\")\n",
    "    gainers_data = []\n",
    "    for row in gainers_rows[1:]:  # Skip the header row\n",
    "        cells = row.find_elements(By.TAG_NAME, \"td\")\n",
    "        gainers_data.append([cell.text for cell in cells])\n",
    "\n",
    "    # Extract data for Losers\n",
    "    losers_rows = losers_table.find_elements(By.TAG_NAME, \"tr\")\n",
    "    losers_data = []\n",
    "    for row in losers_rows[1:]:  # Skip the header row\n",
    "        cells = row.find_elements(By.TAG_NAME, \"td\")\n",
    "        losers_data.append([cell.text for cell in cells])\n",
    "\n",
    "    # Get today's date in YYYY-MM-DD format\n",
    "    today_date = datetime.now().strftime(\"%Y-%m-%d\")\n",
    "\n",
    "    # File name for combined Gainers and Losers data\n",
    "    combined_file = f\"Gainers_and_Losers_{today_date}.csv\"\n",
    "\n",
    "    # Write Gainers and Losers data to CSV\n",
    "    with open(combined_file, mode=\"w\", newline=\"\", encoding=\"utf-8\") as file:\n",
    "        writer = csv.writer(file)\n",
    "\n",
    "        # Write Gainers section\n",
    "        writer.writerow([\"Gainers\"])\n",
    "        writer.writerow([\"Symbol\", \"LTP\", \"% Change\", \"Volume\"])  # Adjust columns as needed\n",
    "        writer.writerows(gainers_data)\n",
    "\n",
    "        # Add a blank row for separation\n",
    "        writer.writerow([])\n",
    "\n",
    "        # Write Losers section\n",
    "        writer.writerow([\"Losers\"])\n",
    "        writer.writerow([\"Symbol\", \"LTP\", \"% Change\", \"Volume\"])  # Adjust columns as needed\n",
    "        writer.writerows(losers_data)\n",
    "\n",
    "    print(f\"Data saved to {combined_file}\")\n",
    "\n",
    "finally:\n",
    "    # Close the browser\n",
    "    driver.quit()"
   ]
  }
 ],
 "metadata": {
  "kernelspec": {
   "display_name": ".venv",
   "language": "python",
   "name": "python3"
  },
  "language_info": {
   "codemirror_mode": {
    "name": "ipython",
    "version": 3
   },
   "file_extension": ".py",
   "mimetype": "text/x-python",
   "name": "python",
   "nbconvert_exporter": "python",
   "pygments_lexer": "ipython3",
   "version": "3.11.9"
  }
 },
 "nbformat": 4,
 "nbformat_minor": 2
}
